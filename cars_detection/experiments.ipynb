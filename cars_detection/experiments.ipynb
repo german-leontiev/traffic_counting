{
 "cells": [
  {
   "cell_type": "code",
   "execution_count": 6,
   "id": "760c49d4-6f7a-4420-a54f-9fbc222cb681",
   "metadata": {},
   "outputs": [],
   "source": [
    "from glob import glob\n",
    "import pandas as pd"
   ]
  },
  {
   "cell_type": "code",
   "execution_count": 18,
   "id": "44eee04d-3355-415f-b5e1-fb11f1641736",
   "metadata": {},
   "outputs": [],
   "source": [
    "results = []\n",
    "for path in [p for p in glob(\"runs/detect/*/*.csv\") if \"train\" not in p]:\n",
    "    optimizer, learning_rate = path.split(\"/\")[2].split(\"_\")\n",
    "    df_res = pd.read_csv(path)\n",
    "    box_loss, cls_loss, dfl_loss = df_res[[c for c in df_res.columns if \"val/\" in c]].iloc[-1,:].values\n",
    "    results.append([optimizer, learning_rate, box_loss, cls_loss, dfl_loss])"
   ]
  },
  {
   "cell_type": "code",
   "execution_count": 21,
   "id": "01ee0eac-7d60-4391-b7f0-7221b8193b7b",
   "metadata": {},
   "outputs": [],
   "source": [
    "res = pd.DataFrame(results)"
   ]
  },
  {
   "cell_type": "code",
   "execution_count": 23,
   "id": "0c8bb8ff-1944-4a5f-9ccb-7767b22145b1",
   "metadata": {},
   "outputs": [],
   "source": [
    "res.columns = [\"Optimizer\", \"Learning Rate\", \"Box Loss\", \"Cls Loss\", \"Dfl_loss\"]"
   ]
  },
  {
   "cell_type": "code",
   "execution_count": 29,
   "id": "bd68cc98-73cc-4bc0-9e8a-d377596787e6",
   "metadata": {},
   "outputs": [],
   "source": [
    "res.to_excel(\"results_of_experiments.xlsx\")"
   ]
  },
  {
   "cell_type": "code",
   "execution_count": 25,
   "id": "3bcd5cc2-91a4-4d1f-8025-f79fc070b9d2",
   "metadata": {},
   "outputs": [
    {
     "data": {
      "text/html": [
       "<div>\n",
       "<style scoped>\n",
       "    .dataframe tbody tr th:only-of-type {\n",
       "        vertical-align: middle;\n",
       "    }\n",
       "\n",
       "    .dataframe tbody tr th {\n",
       "        vertical-align: top;\n",
       "    }\n",
       "\n",
       "    .dataframe thead th {\n",
       "        text-align: right;\n",
       "    }\n",
       "</style>\n",
       "<table border=\"1\" class=\"dataframe\">\n",
       "  <thead>\n",
       "    <tr style=\"text-align: right;\">\n",
       "      <th></th>\n",
       "      <th></th>\n",
       "      <th>Box Loss</th>\n",
       "      <th>Cls Loss</th>\n",
       "      <th>Dfl_loss</th>\n",
       "    </tr>\n",
       "    <tr>\n",
       "      <th>Optimizer</th>\n",
       "      <th>Learning Rate</th>\n",
       "      <th></th>\n",
       "      <th></th>\n",
       "      <th></th>\n",
       "    </tr>\n",
       "  </thead>\n",
       "  <tbody>\n",
       "    <tr>\n",
       "      <th rowspan=\"3\" valign=\"top\">Adam</th>\n",
       "      <th>0.001</th>\n",
       "      <td>0.54148</td>\n",
       "      <td>0.49476</td>\n",
       "      <td>0.97529</td>\n",
       "    </tr>\n",
       "    <tr>\n",
       "      <th>0.01</th>\n",
       "      <td>0.53688</td>\n",
       "      <td>0.48114</td>\n",
       "      <td>0.97096</td>\n",
       "    </tr>\n",
       "    <tr>\n",
       "      <th>0.1</th>\n",
       "      <td>0.54302</td>\n",
       "      <td>0.44690</td>\n",
       "      <td>0.96620</td>\n",
       "    </tr>\n",
       "    <tr>\n",
       "      <th rowspan=\"3\" valign=\"top\">RMSProp</th>\n",
       "      <th>0.001</th>\n",
       "      <td>0.54516</td>\n",
       "      <td>0.47751</td>\n",
       "      <td>0.98843</td>\n",
       "    </tr>\n",
       "    <tr>\n",
       "      <th>0.01</th>\n",
       "      <td>0.54908</td>\n",
       "      <td>0.48331</td>\n",
       "      <td>0.98594</td>\n",
       "    </tr>\n",
       "    <tr>\n",
       "      <th>0.1</th>\n",
       "      <td>0.54254</td>\n",
       "      <td>0.47167</td>\n",
       "      <td>0.97440</td>\n",
       "    </tr>\n",
       "    <tr>\n",
       "      <th rowspan=\"3\" valign=\"top\">SGD</th>\n",
       "      <th>0.001</th>\n",
       "      <td>0.53897</td>\n",
       "      <td>0.44084</td>\n",
       "      <td>0.96548</td>\n",
       "    </tr>\n",
       "    <tr>\n",
       "      <th>0.01</th>\n",
       "      <td>0.53944</td>\n",
       "      <td>0.44993</td>\n",
       "      <td>0.95431</td>\n",
       "    </tr>\n",
       "    <tr>\n",
       "      <th>0.1</th>\n",
       "      <td>0.55186</td>\n",
       "      <td>0.46054</td>\n",
       "      <td>0.94533</td>\n",
       "    </tr>\n",
       "  </tbody>\n",
       "</table>\n",
       "</div>"
      ],
      "text/plain": [
       "                         Box Loss  Cls Loss  Dfl_loss\n",
       "Optimizer Learning Rate                              \n",
       "Adam      0.001           0.54148   0.49476   0.97529\n",
       "          0.01            0.53688   0.48114   0.97096\n",
       "          0.1             0.54302   0.44690   0.96620\n",
       "RMSProp   0.001           0.54516   0.47751   0.98843\n",
       "          0.01            0.54908   0.48331   0.98594\n",
       "          0.1             0.54254   0.47167   0.97440\n",
       "SGD       0.001           0.53897   0.44084   0.96548\n",
       "          0.01            0.53944   0.44993   0.95431\n",
       "          0.1             0.55186   0.46054   0.94533"
      ]
     },
     "execution_count": 25,
     "metadata": {},
     "output_type": "execute_result"
    }
   ],
   "source": [
    "res.set_index([\"Optimizer\", \"Learning Rate\"])"
   ]
  }
 ],
 "metadata": {
  "kernelspec": {
   "display_name": "Python 3",
   "language": "python",
   "name": "python3"
  },
  "language_info": {
   "codemirror_mode": {
    "name": "ipython",
    "version": 3
   },
   "file_extension": ".py",
   "mimetype": "text/x-python",
   "name": "python",
   "nbconvert_exporter": "python",
   "pygments_lexer": "ipython3",
   "version": "3.9.16"
  }
 },
 "nbformat": 4,
 "nbformat_minor": 5
}
