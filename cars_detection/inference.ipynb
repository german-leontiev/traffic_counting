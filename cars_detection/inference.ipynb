{
 "cells": [
  {
   "cell_type": "code",
   "execution_count": 1,
   "id": "d04ad9f0-85cc-4d3b-920c-d59b736f95e8",
   "metadata": {},
   "outputs": [
    {
     "name": "stderr",
     "output_type": "stream",
     "text": [
      "/home/germa/miniconda3/envs/traffic_counting/lib/python3.9/site-packages/tqdm/auto.py:21: TqdmWarning: IProgress not found. Please update jupyter and ipywidgets. See https://ipywidgets.readthedocs.io/en/stable/user_install.html\n",
      "  from .autonotebook import tqdm as notebook_tqdm\n"
     ]
    }
   ],
   "source": [
    "from ultralytics import YOLO\n",
    "from glob import glob\n",
    "from matplotlib import pyplot as plt\n",
    "import numpy as np\n",
    "from PIL import Image\n",
    "import matplotlib.patches as patches"
   ]
  },
  {
   "cell_type": "code",
   "execution_count": 2,
   "id": "c74e8b25-16c5-4841-9532-07bdc3303ba7",
   "metadata": {},
   "outputs": [
    {
     "name": "stderr",
     "output_type": "stream",
     "text": [
      "\n",
      "image 1/1 /mnt/c/Users/germa/projects/itmo/traffic_counting/cars_detection/train_tmp_dataset/images/test/image017304.jpg: 384x640 5 cars, 16.7ms\n",
      "Speed: 0.5ms preprocess, 16.7ms inference, 2.5ms postprocess per image at shape (1, 3, 640, 640)\n"
     ]
    }
   ],
   "source": [
    "model = YOLO(\"best.pt\")\n",
    "image_path = glob(\"../cars_detection/train_tmp_dataset/images/test/*\")[0]\n",
    "preds = model.predict(image_path)\n",
    "preds = np.array(preds[0].boxes.boxes.cpu())\n",
    "image = Image.open(image_path)"
   ]
  },
  {
   "cell_type": "code",
   "execution_count": 3,
   "id": "381ace44-2aa9-420d-91ee-c063a8b9c152",
   "metadata": {},
   "outputs": [
    {
     "name": "stderr",
     "output_type": "stream",
     "text": [
      "<ipython-input-3-e924f5a70c50>:8: UserWarning: Matplotlib is currently using agg, which is a non-GUI backend, so cannot show the figure.\n",
      "  plt.show()\n"
     ]
    }
   ],
   "source": [
    "fig, ax = plt.subplots()\n",
    "ax.imshow(image)\n",
    "for x0, y0, x1, y1, _, _ in preds:\n",
    "    rect = patches.Rectangle((x0, y0), x1 - x0, y1 - y0,\n",
    "                             linewidth=1, edgecolor='r', facecolor='none')\n",
    "\n",
    "    ax.add_patch(rect)\n",
    "plt.show()\n",
    "plt.savefig(\"preds.png\")"
   ]
  },
  {
   "cell_type": "code",
   "execution_count": 4,
   "id": "5423f716-2019-4113-b7fb-6d20fee6f0ce",
   "metadata": {},
   "outputs": [
    {
     "name": "stderr",
     "output_type": "stream",
     "text": [
      "Ultralytics YOLOv8.0.53 🚀 Python-3.9.16 torch-1.13.1+cu117 CPU\n",
      "\n",
      "\u001b[34m\u001b[1mPyTorch:\u001b[0m starting from best.pt with input shape (1, 3, 640, 640) BCHW and output shape(s) (1, 5, 8400) (49.6 MB)\n",
      "\n",
      "\u001b[34m\u001b[1mONNX:\u001b[0m starting export with onnx 1.13.1...\n",
      "\u001b[34m\u001b[1mONNX:\u001b[0m export success ✅ 1.4s, saved as best.onnx (98.8 MB)\n",
      "\n",
      "Export complete (2.4s)\n",
      "Results saved to \u001b[1m/mnt/c/Users/germa/projects/itmo/traffic_counting/cars_detection\u001b[0m\n",
      "Predict:         yolo predict task=detect model=best.onnx imgsz=640 \n",
      "Validate:        yolo val task=detect model=best.onnx imgsz=640 data=train_tmp_dataset/custom_dataset.yml \n",
      "Visualize:       https://netron.app\n"
     ]
    }
   ],
   "source": [
    "success = model.export(format=\"onnx\")"
   ]
  },
  {
   "cell_type": "code",
   "execution_count": null,
   "id": "fc46d8ff-ed40-434b-9a87-9cd8195dfa28",
   "metadata": {},
   "outputs": [],
   "source": []
  }
 ],
 "metadata": {
  "kernelspec": {
   "display_name": "Python 3",
   "language": "python",
   "name": "python3"
  },
  "language_info": {
   "codemirror_mode": {
    "name": "ipython",
    "version": 3
   },
   "file_extension": ".py",
   "mimetype": "text/x-python",
   "name": "python",
   "nbconvert_exporter": "python",
   "pygments_lexer": "ipython3",
   "version": "3.9.16"
  }
 },
 "nbformat": 4,
 "nbformat_minor": 5
}
